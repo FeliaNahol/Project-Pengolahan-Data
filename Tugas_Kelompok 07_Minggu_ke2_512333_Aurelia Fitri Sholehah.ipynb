{
 "cells": [
  {
   "cell_type": "markdown",
   "id": "642fae91-6032-492f-a6e1-a890dd48998a",
   "metadata": {},
   "source": [
    "#### Tugas Dua Kelompok Mata Kuliah Pengolahan Data"
   ]
  },
  {
   "cell_type": "markdown",
   "id": "8df671f2-c459-4a77-84b9-16a010c23a69",
   "metadata": {},
   "source": [
    "### Nama Anggota:\n",
    "- Irene Belicia Alden Wijayanto (23/520057/TK/57308)\n",
    "- Nabilah Holizah (23/521132/TK/57473)\n",
    "- Rezinda Febri Wahyu D (23/522081/TK/57602)\n",
    "- Luna Aqila Nayawijaya (23/542959/TK/57782)\n",
    "- Aurelia Fitri Sholehah (23/512333/TK/56316)"
   ]
  },
  {
   "cell_type": "code",
   "execution_count": 124,
   "id": "c33f8693-f5d8-4091-bed5-18caa9f38b27",
   "metadata": {},
   "outputs": [
    {
     "name": "stdout",
     "output_type": "stream",
     "text": [
      "    10_Digit_BBL  Street_Number           Street_Name  DOF_Gross_Square_Footage Energy_Efficiency_Grade  Energy_Star_1-100_Score\n",
      "0     1007610020            325        WEST 37 STREET                     48843                       A                      100\n",
      "1     1007610022            313        WEST 37 STREET                     82354                       C                       62\n",
      "2     1007610028            307        WEST 37 STREET                    102824                       B                       79\n",
      "3     1007610033            545              8 AVENUE                    166874                       A                       86\n",
      "4     1007610037            555              8 AVENUE                    162260                       A                      100\n",
      "5     1007610043            320        WEST 38 STREET                    718503                       D                       22\n",
      "6     1007610053            330        WEST 38 STREET                    180064                       A                       95\n",
      "7     1007610059            344        WEST 38 STREET                     95402                       A                       85\n",
      "8     1007620016            333        WEST 38 STREET                     35219                       B                       80\n",
      "9     1007620019            325        WEST 38 STREET                    110188                       A                       93\n",
      "10    1000050010            115          BROAD STREET                   1016406                       A                       91\n",
      "11    1000057501            125          BROAD STREET                   1354691                       A                       85\n",
      "12    1000080051              6          WATER STREET                    102407                       D                       26\n",
      "13    1000087501             39      WHITEHALL STREET                    169061                       D                       32\n",
      "14    1000090001             34      WHITEHALL STREET                    692431                       B                       83\n",
      "15    1000090014             17          STATE STREET                    544015                       B                       75\n",
      "16    1000090029             24          STATE STREET                    896956                       C                       56\n",
      "17    1000100014             33      WHITEHALL STREET                    365792                       B                       82\n",
      "18    1000100016             90          BROAD STREET                    336025                       B                       79\n",
      "19    1000100023              1      WHITEHALL STREET                    321994                       A                       87\n",
      "20    1000110021             80          BROAD STREET                    361710                       B                       80\n",
      "21    1000130001              1              BROADWAY                    180646                       A                       87\n",
      "22    1000130005             11              BROADWAY                    434220                       A                       92\n",
      "23    1000130027             25              BROADWAY                    809401                       C                       65\n",
      "24    1000150022             21           WEST STREET                    335746                       D                       29\n",
      "25    1000157501             17         BATTERY PLACE                   1402831                       B                       81\n",
      "26    1000157502             20           WEST STREET                    259076                       B                       78\n",
      "27    1000160015             50         BATTERY PLACE                    239165                       B                       80\n",
      "28    1000160020             70         BATTERY PLACE                    230765                       B                       82\n",
      "29    1000160100            345      SOUTH END AVENUE                   1881621                       B                       72\n",
      "30    1000160120            200        LIBERTY STREET                   1501878                       A                       86\n",
      "31    1000160125            225        LIBERTY STREET                   2267925                       B                       77\n",
      "32    1000160150            250          VESEY STREET                   2084079                       A                       85\n",
      "33    1000160180             20         RIVER TERRACE                    356786                       D                       35\n",
      "34    1000160185            211      NORTH END AVENUE                    283905                       D                       11\n",
      "35    1000160205            455      NORTH END AVENUE                    239185                       D                        1\n",
      "36    1000160210            399       CHAMBERS STREET                    357000                       B                       76\n",
      "37    1000160221            450      NORTH END AVENUE                    244617                       D                       26\n",
      "38    1000160225              1      NORTH END AVENUE                    502000                       B                       83\n",
      "39    1000167501            377          RECTOR PLACE                    220821                       B                       71\n",
      "40    1000167502            320         ALBANY STREET                    150855                       B                       78\n",
      "41    1000167503            250      SOUTH END AVENUE                    106052                       D                       44\n",
      "42    1000167504            300         ALBANY STREET                     91774                       C                       62\n",
      "43    1000167507            300          RECTOR PLACE                    129176                       B                       84\n",
      "44    1000167513             10    LITTLE WEST STREET                    562340                       B                       77\n",
      "45    1000167515            225          RECTOR PLACE                    287819                       A                       96\n",
      "46    1000167516              2         RIVER TERRACE                    531665                       D                       35\n",
      "47    1000167517             70         BATTERY PLACE                    508458                       D                        4\n",
      "48    1000167520            200      NORTH END AVENUE                    425407                       D                       31\n",
      "49    1000167521            212         WARREN STREET                    335784                       C                       69\n",
      "50    1000167522            400       CHAMBERS STREET                    360656                       D                       32\n",
      "51    1000177501             50           WEST STREET                    427177                       D                       45\n",
      "52    1000187501             13         RECTOR STREET                    366993                       D                       16\n",
      "53    1000200004             39              BROADWAY                    447452                       B                       84\n",
      "54    1000200009             45              BROADWAY                    368315                       B                       77\n",
      "55    1000200016             55              BROADWAY                    309381                       B                       78\n",
      "56    1000210001             61              BROADWAY                    650740                       A                       85\n",
      "57    1000210004             65              BROADWAY                    335184                       A                       87\n",
      "58    1000210006             71              BROADWAY                    303086                       B                       82\n",
      "59    1000220013             26              BROADWAY                    860889                       A                       97\n",
      "60    1000220017             32              BROADWAY                    143000                       D                       45\n",
      "61    1000220020             42              BROADWAY                    389927                       B                       83\n",
      "62    1000220024             50              BROADWAY                    300676                       A                       85\n",
      "63    1000220028             52              BROADWAY                    345540                       B                       70\n",
      "64    1000230050             20          BROAD STREET                    466820                       A                       93\n",
      "65    1000240001             60          BROAD STREET                    974958                       C                       69\n",
      "66    1000240029             30          BROAD STREET                    370000                       A                       91\n",
      "67    1000240036             50          BROAD STREET                    205940                       B                       80\n",
      "68    1000247501             40          BROAD STREET                    319910                       D                       24\n",
      "69    1000250001             55          BROAD STREET                    406025                       C                       60\n",
      "70    1000250010             41          BROAD STREET                     91553                       D                        3\n",
      "71    1000250027             40        EXCHANGE PLACE                    239071                       A                       89\n",
      "72    1000257501             15        WILLIAM STREET                    530168                       B                       81\n",
      "73    1000257502             25          BROAD STREET                    433463                       D                       42\n",
      "74    1000260021             45           WALL STREET                    493187                       D                       48\n",
      "75    1000267501             15          BROAD STREET                    944252                       C                       63\n",
      "76    1000270009             63           WALL STREET                    400531                       D                       40\n",
      "77    1000270017             67           WALL STREET                    305271                       D                       40\n",
      "78    1000277502             20        EXCHANGE PLACE                    786942                       A                       91\n",
      "79    1000280001              3        HANOVER SQUARE                    239121                       D                       14\n",
      "80    1000280005              5        HANOVER SQUARE                    292466                       D                       53\n",
      "81    1000280012             76         BEAVER STREET                     95325                       B                       83\n",
      "82    1000287501             82         BEAVER STREET                    108373                       D                        4\n",
      "83    1000290001             85          BROAD STREET                   1007569                       B                       80\n",
      "84    1000290036              1        WILLIAM STREET                    105000                       B                       71\n",
      "85    1000290070             75          BROAD STREET                    661283                       D                       52\n",
      "86    1000297503             21  SOUTH WILLIAM STREET                     25483                       D                        1\n",
      "87    1000307501              7        HANOVER SQUARE                    806170                       A                       88\n",
      "88    1000310001             10        HANOVER SQUARE                    487404                       D                       31\n",
      "89    1000317501             75           WALL STREET                    683289                       D                       49\n",
      "90    1000327501             43          WATER STREET                   3678000                       B                       78\n",
      "91    1000330001             77          WATER STREET                    541568                       D                       54\n",
      "92    1000330011             95           WALL STREET                    473460                       D                       15\n",
      "93    1000337501             99           WALL STREET                    106598                       D                       24\n",
      "94    1000350001             77          FRONT STREET                    973587                       B                       75\n",
      "95    1000370013            129          FRONT STREET                     34613                       C                       66\n",
      "96    1000370023            180           MAIDEN LANE                   1079361                       B                       72\n",
      "97    1000380001            100           WALL STREET                    463664                       C                       65\n",
      "98    1000380017             88           PINE STREET                    664990                       B                       77\n",
      "99    1000390012            110           MAIDEN LANE                   1104184                       D                       18\n"
     ]
    }
   ],
   "source": [
    "import pandas as pd\n",
    "df = pd.read_csv('energy_disclosure_2021_rows.csv')\n",
    "print(df.to_string()) "
   ]
  },
  {
   "cell_type": "code",
   "execution_count": 32,
   "id": "ed78d390-02dc-4362-865f-28368c8e7449",
   "metadata": {},
   "outputs": [
    {
     "data": {
      "text/html": [
       "<div>\n",
       "<style scoped>\n",
       "    .dataframe tbody tr th:only-of-type {\n",
       "        vertical-align: middle;\n",
       "    }\n",
       "\n",
       "    .dataframe tbody tr th {\n",
       "        vertical-align: top;\n",
       "    }\n",
       "\n",
       "    .dataframe thead th {\n",
       "        text-align: right;\n",
       "    }\n",
       "</style>\n",
       "<table border=\"1\" class=\"dataframe\">\n",
       "  <thead>\n",
       "    <tr style=\"text-align: right;\">\n",
       "      <th></th>\n",
       "      <th>10_Digit_BBL</th>\n",
       "      <th>Street_Number</th>\n",
       "      <th>Street_Name</th>\n",
       "      <th>DOF_Gross_Square_Footage</th>\n",
       "      <th>Energy_Efficiency_Grade</th>\n",
       "      <th>Energy_Star_1-100_Score</th>\n",
       "    </tr>\n",
       "  </thead>\n",
       "  <tbody>\n",
       "    <tr>\n",
       "      <th>0</th>\n",
       "      <td>1007610020</td>\n",
       "      <td>325</td>\n",
       "      <td>WEST 37 STREET</td>\n",
       "      <td>48843</td>\n",
       "      <td>A</td>\n",
       "      <td>100</td>\n",
       "    </tr>\n",
       "    <tr>\n",
       "      <th>1</th>\n",
       "      <td>1007610022</td>\n",
       "      <td>313</td>\n",
       "      <td>WEST 37 STREET</td>\n",
       "      <td>82354</td>\n",
       "      <td>C</td>\n",
       "      <td>62</td>\n",
       "    </tr>\n",
       "    <tr>\n",
       "      <th>2</th>\n",
       "      <td>1007610028</td>\n",
       "      <td>307</td>\n",
       "      <td>WEST 37 STREET</td>\n",
       "      <td>102824</td>\n",
       "      <td>B</td>\n",
       "      <td>79</td>\n",
       "    </tr>\n",
       "    <tr>\n",
       "      <th>3</th>\n",
       "      <td>1007610033</td>\n",
       "      <td>545</td>\n",
       "      <td>8 AVENUE</td>\n",
       "      <td>166874</td>\n",
       "      <td>A</td>\n",
       "      <td>86</td>\n",
       "    </tr>\n",
       "    <tr>\n",
       "      <th>4</th>\n",
       "      <td>1007610037</td>\n",
       "      <td>555</td>\n",
       "      <td>8 AVENUE</td>\n",
       "      <td>162260</td>\n",
       "      <td>A</td>\n",
       "      <td>100</td>\n",
       "    </tr>\n",
       "  </tbody>\n",
       "</table>\n",
       "</div>"
      ],
      "text/plain": [
       "   10_Digit_BBL  Street_Number     Street_Name  DOF_Gross_Square_Footage  \\\n",
       "0    1007610020            325  WEST 37 STREET                     48843   \n",
       "1    1007610022            313  WEST 37 STREET                     82354   \n",
       "2    1007610028            307  WEST 37 STREET                    102824   \n",
       "3    1007610033            545        8 AVENUE                    166874   \n",
       "4    1007610037            555        8 AVENUE                    162260   \n",
       "\n",
       "  Energy_Efficiency_Grade  Energy_Star_1-100_Score  \n",
       "0                       A                      100  \n",
       "1                       C                       62  \n",
       "2                       B                       79  \n",
       "3                       A                       86  \n",
       "4                       A                      100  "
      ]
     },
     "execution_count": 32,
     "metadata": {},
     "output_type": "execute_result"
    }
   ],
   "source": [
    "import pandas as pd\n",
    "df = pd.read_csv('energy_disclosure_2021_rows.csv')\n",
    "df.head()"
   ]
  },
  {
   "cell_type": "code",
   "execution_count": 30,
   "id": "0d38a3fc-aa6e-419e-9e2f-6b0555a25c9c",
   "metadata": {},
   "outputs": [
    {
     "name": "stdout",
     "output_type": "stream",
     "text": [
      "Energy_Efficiency_Grade    object\n",
      "Energy_Star_1-100_Score     int64\n",
      "dtype: object\n"
     ]
    }
   ],
   "source": [
    "print(df.dtypes)"
   ]
  },
  {
   "cell_type": "code",
   "execution_count": 31,
   "id": "07143054-5629-42a9-9ca9-a454a17487ba",
   "metadata": {},
   "outputs": [
    {
     "data": {
      "text/html": [
       "<div>\n",
       "<style scoped>\n",
       "    .dataframe tbody tr th:only-of-type {\n",
       "        vertical-align: middle;\n",
       "    }\n",
       "\n",
       "    .dataframe tbody tr th {\n",
       "        vertical-align: top;\n",
       "    }\n",
       "\n",
       "    .dataframe thead th {\n",
       "        text-align: right;\n",
       "    }\n",
       "</style>\n",
       "<table border=\"1\" class=\"dataframe\">\n",
       "  <thead>\n",
       "    <tr style=\"text-align: right;\">\n",
       "      <th></th>\n",
       "      <th>Energy_Star_1-100_Score</th>\n",
       "    </tr>\n",
       "  </thead>\n",
       "  <tbody>\n",
       "    <tr>\n",
       "      <th>count</th>\n",
       "      <td>100.000000</td>\n",
       "    </tr>\n",
       "    <tr>\n",
       "      <th>mean</th>\n",
       "      <td>63.250000</td>\n",
       "    </tr>\n",
       "    <tr>\n",
       "      <th>std</th>\n",
       "      <td>27.262056</td>\n",
       "    </tr>\n",
       "    <tr>\n",
       "      <th>min</th>\n",
       "      <td>1.000000</td>\n",
       "    </tr>\n",
       "    <tr>\n",
       "      <th>25%</th>\n",
       "      <td>43.500000</td>\n",
       "    </tr>\n",
       "    <tr>\n",
       "      <th>50%</th>\n",
       "      <td>75.500000</td>\n",
       "    </tr>\n",
       "    <tr>\n",
       "      <th>75%</th>\n",
       "      <td>83.250000</td>\n",
       "    </tr>\n",
       "    <tr>\n",
       "      <th>max</th>\n",
       "      <td>100.000000</td>\n",
       "    </tr>\n",
       "  </tbody>\n",
       "</table>\n",
       "</div>"
      ],
      "text/plain": [
       "       Energy_Star_1-100_Score\n",
       "count               100.000000\n",
       "mean                 63.250000\n",
       "std                  27.262056\n",
       "min                   1.000000\n",
       "25%                  43.500000\n",
       "50%                  75.500000\n",
       "75%                  83.250000\n",
       "max                 100.000000"
      ]
     },
     "execution_count": 31,
     "metadata": {},
     "output_type": "execute_result"
    }
   ],
   "source": [
    "df.describe()"
   ]
  },
  {
   "cell_type": "code",
   "execution_count": 11,
   "id": "5a7be0a5-0ae5-4795-9bdc-975dbced4c68",
   "metadata": {},
   "outputs": [
    {
     "data": {
      "text/html": [
       "<div>\n",
       "<style scoped>\n",
       "    .dataframe tbody tr th:only-of-type {\n",
       "        vertical-align: middle;\n",
       "    }\n",
       "\n",
       "    .dataframe tbody tr th {\n",
       "        vertical-align: top;\n",
       "    }\n",
       "\n",
       "    .dataframe thead th {\n",
       "        text-align: right;\n",
       "    }\n",
       "</style>\n",
       "<table border=\"1\" class=\"dataframe\">\n",
       "  <thead>\n",
       "    <tr style=\"text-align: right;\">\n",
       "      <th></th>\n",
       "      <th>10_Digit_BBL</th>\n",
       "      <th>Street_Number</th>\n",
       "      <th>Street_Name</th>\n",
       "      <th>DOF_Gross_Square_Footage</th>\n",
       "      <th>Energy_Efficiency_Grade</th>\n",
       "      <th>Energy_Star_1-100_Score</th>\n",
       "    </tr>\n",
       "  </thead>\n",
       "  <tbody>\n",
       "    <tr>\n",
       "      <th>count</th>\n",
       "      <td>1.000000e+02</td>\n",
       "      <td>100.000000</td>\n",
       "      <td>100</td>\n",
       "      <td>1.000000e+02</td>\n",
       "      <td>100</td>\n",
       "      <td>100.000000</td>\n",
       "    </tr>\n",
       "    <tr>\n",
       "      <th>unique</th>\n",
       "      <td>NaN</td>\n",
       "      <td>NaN</td>\n",
       "      <td>30</td>\n",
       "      <td>NaN</td>\n",
       "      <td>4</td>\n",
       "      <td>NaN</td>\n",
       "    </tr>\n",
       "    <tr>\n",
       "      <th>top</th>\n",
       "      <td>NaN</td>\n",
       "      <td>NaN</td>\n",
       "      <td>BROAD STREET</td>\n",
       "      <td>NaN</td>\n",
       "      <td>B</td>\n",
       "      <td>NaN</td>\n",
       "    </tr>\n",
       "    <tr>\n",
       "      <th>freq</th>\n",
       "      <td>NaN</td>\n",
       "      <td>NaN</td>\n",
       "      <td>15</td>\n",
       "      <td>NaN</td>\n",
       "      <td>34</td>\n",
       "      <td>NaN</td>\n",
       "    </tr>\n",
       "    <tr>\n",
       "      <th>mean</th>\n",
       "      <td>1.000952e+09</td>\n",
       "      <td>123.230000</td>\n",
       "      <td>NaN</td>\n",
       "      <td>5.103363e+05</td>\n",
       "      <td>NaN</td>\n",
       "      <td>63.250000</td>\n",
       "    </tr>\n",
       "    <tr>\n",
       "      <th>std</th>\n",
       "      <td>2.232645e+06</td>\n",
       "      <td>137.155508</td>\n",
       "      <td>NaN</td>\n",
       "      <td>5.303829e+05</td>\n",
       "      <td>NaN</td>\n",
       "      <td>27.262056</td>\n",
       "    </tr>\n",
       "    <tr>\n",
       "      <th>min</th>\n",
       "      <td>1.000050e+09</td>\n",
       "      <td>1.000000</td>\n",
       "      <td>NaN</td>\n",
       "      <td>2.548300e+04</td>\n",
       "      <td>NaN</td>\n",
       "      <td>1.000000</td>\n",
       "    </tr>\n",
       "    <tr>\n",
       "      <th>25%</th>\n",
       "      <td>1.000160e+09</td>\n",
       "      <td>25.000000</td>\n",
       "      <td>NaN</td>\n",
       "      <td>2.171008e+05</td>\n",
       "      <td>NaN</td>\n",
       "      <td>43.500000</td>\n",
       "    </tr>\n",
       "    <tr>\n",
       "      <th>50%</th>\n",
       "      <td>1.000220e+09</td>\n",
       "      <td>64.000000</td>\n",
       "      <td>NaN</td>\n",
       "      <td>3.611830e+05</td>\n",
       "      <td>NaN</td>\n",
       "      <td>75.500000</td>\n",
       "    </tr>\n",
       "    <tr>\n",
       "      <th>75%</th>\n",
       "      <td>1.000290e+09</td>\n",
       "      <td>202.750000</td>\n",
       "      <td>NaN</td>\n",
       "      <td>5.844400e+05</td>\n",
       "      <td>NaN</td>\n",
       "      <td>83.250000</td>\n",
       "    </tr>\n",
       "    <tr>\n",
       "      <th>max</th>\n",
       "      <td>1.007620e+09</td>\n",
       "      <td>555.000000</td>\n",
       "      <td>NaN</td>\n",
       "      <td>3.678000e+06</td>\n",
       "      <td>NaN</td>\n",
       "      <td>100.000000</td>\n",
       "    </tr>\n",
       "  </tbody>\n",
       "</table>\n",
       "</div>"
      ],
      "text/plain": [
       "        10_Digit_BBL  Street_Number   Street_Name  DOF_Gross_Square_Footage  \\\n",
       "count   1.000000e+02     100.000000           100              1.000000e+02   \n",
       "unique           NaN            NaN            30                       NaN   \n",
       "top              NaN            NaN  BROAD STREET                       NaN   \n",
       "freq             NaN            NaN            15                       NaN   \n",
       "mean    1.000952e+09     123.230000           NaN              5.103363e+05   \n",
       "std     2.232645e+06     137.155508           NaN              5.303829e+05   \n",
       "min     1.000050e+09       1.000000           NaN              2.548300e+04   \n",
       "25%     1.000160e+09      25.000000           NaN              2.171008e+05   \n",
       "50%     1.000220e+09      64.000000           NaN              3.611830e+05   \n",
       "75%     1.000290e+09     202.750000           NaN              5.844400e+05   \n",
       "max     1.007620e+09     555.000000           NaN              3.678000e+06   \n",
       "\n",
       "       Energy_Efficiency_Grade  Energy_Star_1-100_Score  \n",
       "count                      100               100.000000  \n",
       "unique                       4                      NaN  \n",
       "top                          B                      NaN  \n",
       "freq                        34                      NaN  \n",
       "mean                       NaN                63.250000  \n",
       "std                        NaN                27.262056  \n",
       "min                        NaN                 1.000000  \n",
       "25%                        NaN                43.500000  \n",
       "50%                        NaN                75.500000  \n",
       "75%                        NaN                83.250000  \n",
       "max                        NaN               100.000000  "
      ]
     },
     "execution_count": 11,
     "metadata": {},
     "output_type": "execute_result"
    }
   ],
   "source": [
    "df.describe(include='all')"
   ]
  },
  {
   "cell_type": "markdown",
   "id": "9d7390a8-2db3-42f0-8efb-60953a1d7f08",
   "metadata": {},
   "source": [
    "### 1. Deskripsi Statistik Data : Median"
   ]
  },
  {
   "cell_type": "code",
   "execution_count": 3,
   "id": "95716142-5123-4f0c-b48b-42490e9816fc",
   "metadata": {},
   "outputs": [
    {
     "name": "stdout",
     "output_type": "stream",
     "text": [
      "Median dari Kolom Street Number Street_Number    64.0\n",
      "dtype: float64\n",
      "Median dari Kolom 10 Digit BBL 10_Digit_BBL    1.000220e+09\n",
      "dtype: float64\n",
      "Median dari Kolom DOF Gross Squar Footage DOF_Gross_Square_Footage    361183.0\n",
      "dtype: float64\n",
      "Median dari Kolom Energy Star 1-100 Score Energy_Star_1-100_Score    75.5\n",
      "dtype: float64\n"
     ]
    }
   ],
   "source": [
    "import pandas as pd\n",
    "df_noid= pd.read_csv('energy_disclosure_2021_rows.csv')\n",
    "med_1=df_noid[['Street_Number']].median()\n",
    "med_2=df_noid[['10_Digit_BBL']].median()\n",
    "med_3=df_noid[['DOF_Gross_Square_Footage']].median()\n",
    "med_4=df_noid[['Energy_Star_1-100_Score']].median()\n",
    "print(\"Median dari Kolom Street Number\",med_1)\n",
    "print(\"Median dari Kolom 10 Digit BBL\",med_2)\n",
    "print(\"Median dari Kolom DOF Gross Squar Footage\", med_3)\n",
    "print(\"Median dari Kolom Energy Star 1-100 Score\", med_4)"
   ]
  },
  {
   "cell_type": "markdown",
   "id": "5d8b3a28-bce2-4dbc-909f-428050945a58",
   "metadata": {},
   "source": [
    "### 3. Deskripsi Statistik Data : Sum"
   ]
  },
  {
   "cell_type": "code",
   "execution_count": 4,
   "id": "01297896-d6d6-48ca-9dc3-d1401951f9d0",
   "metadata": {},
   "outputs": [
    {
     "name": "stdout",
     "output_type": "stream",
     "text": [
      "sum dari kolom street number Street_Number    12323\n",
      "dtype: int64\n",
      "sum dari kolom street number 10_Digit_BBL    100095160531\n",
      "dtype: int64\n",
      "sum dari kolom street number DOF_Gross_Square_Footage    51033631\n",
      "dtype: int64\n",
      "sum dari kolom street number Energy_Star_1-100_Score    6325\n",
      "dtype: int64\n"
     ]
    }
   ],
   "source": [
    "import pandas as pd\n",
    "df_noid= pd.read_csv('energy_disclosure_2021_rows.csv')\n",
    "sum_1=df_noid[['Street_Number']].sum()\n",
    "sum_2=df_noid[['10_Digit_BBL']].sum()\n",
    "sum_3=df_noid[['DOF_Gross_Square_Footage']].sum()\n",
    "sum_4=df_noid[['Energy_Star_1-100_Score']].sum()\n",
    "print(\"sum dari kolom street number\", sum_1)\n",
    "print(\"sum dari kolom street number\", sum_2)\n",
    "print(\"sum dari kolom street number\", sum_3)\n",
    "print(\"sum dari kolom street number\", sum_4)"
   ]
  },
  {
   "cell_type": "markdown",
   "id": "6356109c-acce-4dee-8734-1d199440c731",
   "metadata": {},
   "source": [
    "### 4. Deskripsi Statistik Data : std"
   ]
  },
  {
   "cell_type": "code",
   "execution_count": 5,
   "id": "9d64cbf2-2f71-462a-bb90-7ef8a6982673",
   "metadata": {},
   "outputs": [
    {
     "name": "stdout",
     "output_type": "stream",
     "text": [
      "nilai standar deviasi dari kolom Street_Number Street_Number    137.155508\n",
      "dtype: float64\n",
      "nilai standar deviasi dari kolom 10 Digit BBL 10_Digit_BBL    2.232645e+06\n",
      "dtype: float64\n",
      "nilai standar deviasi dari kolom DOF_Gross_Square_Footag DOF_Gross_Square_Footage    530382.871783\n",
      "dtype: float64\n",
      "nilai standar deviasi dari kolom Energy_Star_1-100_Score Energy_Star_1-100_Score    27.262056\n",
      "dtype: float64\n"
     ]
    }
   ],
   "source": [
    "import pandas as pd\n",
    "df_noid= pd.read_csv('energy_disclosure_2021_rows.csv')\n",
    "std_1=df_noid[['Street_Number']].std()\n",
    "std_2=df_noid[['10_Digit_BBL']].std()\n",
    "std_3=df_noid[['DOF_Gross_Square_Footage']].std()\n",
    "std_4=df_noid[['Energy_Star_1-100_Score']].std()\n",
    "print(\"nilai standar deviasi dari kolom Street_Number\",std_1)\n",
    "print(\"nilai standar deviasi dari kolom 10 Digit BBL\",std_2)\n",
    "print(\"nilai standar deviasi dari kolom DOF_Gross_Square_Footag\",std_3)\n",
    "print(\"nilai standar deviasi dari kolom Energy_Star_1-100_Score\",std_4)"
   ]
  },
  {
   "cell_type": "code",
   "execution_count": 6,
   "id": "79b2a76c-6777-423d-a61e-8fd82729ffc0",
   "metadata": {},
   "outputs": [
    {
     "name": "stdout",
     "output_type": "stream",
     "text": [
      "nilai minimal dari kolom Street_Number Street_Number    1\n",
      "dtype: int64\n",
      "nilai minimal dari kolom 10 Digit BBL 10_Digit_BBL    1000050010\n",
      "dtype: int64\n",
      "nilai minimal dari kolom DOF_Gross_Square_Footag DOF_Gross_Square_Footage    25483\n",
      "dtype: int64\n",
      "nilai minimal dari kolom Energy_Star_1-100_Score Energy_Star_1-100_Score    1\n",
      "dtype: int64\n"
     ]
    }
   ],
   "source": [
    "import pandas as pd\n",
    "df_noid= pd.read_csv('energy_disclosure_2021_rows.csv')\n",
    "min_1=df_noid[['Street_Number']].min()\n",
    "min_2=df_noid[['10_Digit_BBL']].min()\n",
    "min_3=df_noid[['DOF_Gross_Square_Footage']].min()\n",
    "min_4=df_noid[['Energy_Star_1-100_Score']].min()\n",
    "print(\"nilai minimal dari kolom Street_Number\",min_1)\n",
    "print(\"nilai minimal dari kolom 10 Digit BBL\",min_2)\n",
    "print(\"nilai minimal dari kolom DOF_Gross_Square_Footag\",min_3)\n",
    "print(\"nilai minimal dari kolom Energy_Star_1-100_Score\",min_4)"
   ]
  },
  {
   "cell_type": "code",
   "execution_count": 7,
   "id": "f73f4687-68cb-46f6-a542-5cc33b1739c0",
   "metadata": {},
   "outputs": [
    {
     "name": "stdout",
     "output_type": "stream",
     "text": [
      "nilai minimal dari kolom Street_Number Street_Number    555\n",
      "dtype: int64\n",
      "nilai minimal dari kolom 10 Digit BBL 10_Digit_BBL    1007620019\n",
      "dtype: int64\n",
      "nilai minimal dari kolom DOF_Gross_Square_Footag DOF_Gross_Square_Footage    3678000\n",
      "dtype: int64\n",
      "nilai minimal dari kolom Energy_Star_1-100_Score Energy_Star_1-100_Score    100\n",
      "dtype: int64\n"
     ]
    }
   ],
   "source": [
    "import pandas as pd\n",
    "df_noid= pd.read_csv('energy_disclosure_2021_rows.csv')\n",
    "max_1=df_noid[['Street_Number']].max()\n",
    "max_2=df_noid[['10_Digit_BBL']].max()\n",
    "max_3=df_noid[['DOF_Gross_Square_Footage']].max()\n",
    "max_4=df_noid[['Energy_Star_1-100_Score']].max()\n",
    "print(\"nilai minimal dari kolom Street_Number\",max_1)\n",
    "print(\"nilai minimal dari kolom 10 Digit BBL\",max_2)\n",
    "print(\"nilai minimal dari kolom DOF_Gross_Square_Footag\",max_3)\n",
    "print(\"nilai minimal dari kolom Energy_Star_1-100_Score\",max_4)"
   ]
  },
  {
   "cell_type": "markdown",
   "id": "a837db7f-8806-4a36-922d-7cd94a0139c5",
   "metadata": {},
   "source": [
    "### 5.Deskripsi Statistik Data : Quartile"
   ]
  },
  {
   "cell_type": "markdown",
   "id": "afc1b395-9bd8-4d4e-a33c-2a8987e87581",
   "metadata": {},
   "source": [
    "## a. Nilai Kuartil dari Kolom Energy_Star_1-100 Score"
   ]
  },
  {
   "cell_type": "code",
   "execution_count": 11,
   "id": "a611ce2a-707d-4317-a8bd-ce81e2268592",
   "metadata": {},
   "outputs": [
    {
     "name": "stdout",
     "output_type": "stream",
     "text": [
      "nilai kuartil pertama Energy_Star_1-100_Score    43.5\n",
      "Name: 0.25, dtype: float64\n",
      "nilai kuartil kedua Energy_Star_1-100_Score    75.5\n",
      "Name: 0.5, dtype: float64\n",
      "nilai kuartil ketiga Energy_Star_1-100_Score    83.25\n",
      "Name: 0.75, dtype: float64\n",
      "nilai rentang antarkuartil Energy_Star_1-100_Score    39.75\n",
      "dtype: float64\n"
     ]
    }
   ],
   "source": [
    "import pandas as pd\n",
    "df_noid= pd.read_csv('energy_disclosure_2021_rows.csv')\n",
    "q1 = df_noid[['Energy_Star_1-100_Score']].quantile(0.25)\n",
    "q2 = df_noid[['Energy_Star_1-100_Score']].quantile(0.5)\n",
    "q3 = df_noid[['Energy_Star_1-100_Score']].quantile(0.75)\n",
    "iqr = q3 - q1\n",
    "\n",
    "print(\"nilai kuartil pertama\", q1)\n",
    "print(\"nilai kuartil kedua\", q2)\n",
    "print(\"nilai kuartil ketiga\", q3)\n",
    "print(\"nilai rentang antarkuartil\", iqr)\n",
    "\n",
    "#outlier_filter = (df_noid['Energy_Star_1-100_Score'] < q1 - 1.5 * iqr) | (df_noid['Energy_Star_1-100_Score'] > q3 + 1.5 * iqr)\n",
    "\n",
    "#outliers = df_noid[outlier_filter].loc[:, ['Street_Name', 'Energy_Star_1-100_Score']].sort_values(by='Energy_Star_1-100_Score', ascending=False)\n",
    "#print(outliers)"
   ]
  },
  {
   "cell_type": "markdown",
   "id": "68416627-4d1a-4c17-bcfb-ea9a7b023db4",
   "metadata": {},
   "source": [
    "## b. Nilai Kuartil dari Kolom Street Number "
   ]
  },
  {
   "cell_type": "code",
   "execution_count": 9,
   "id": "d395d400-4dba-41c6-9978-e6f4be7b93bb",
   "metadata": {},
   "outputs": [
    {
     "name": "stdout",
     "output_type": "stream",
     "text": [
      "nilai kuartil pertama 25.0\n",
      "nilai kuartil kedua 64.0\n",
      "nilai kuartil ketiga 202.75\n",
      "nilai rentang antarkuartil 177.75\n",
      "outlier filter dari Street_Number 0     False\n",
      "1     False\n",
      "2     False\n",
      "3      True\n",
      "4      True\n",
      "      ...  \n",
      "95    False\n",
      "96    False\n",
      "97    False\n",
      "98    False\n",
      "99    False\n",
      "Name: Street_Number, Length: 100, dtype: bool\n"
     ]
    }
   ],
   "source": [
    "import pandas as pd\n",
    "df_noid= pd.read_csv('energy_disclosure_2021_rows.csv')\n",
    "q1 = df_noid['Street_Number'].quantile(0.25)\n",
    "q2 = df_noid['Street_Number'].quantile(0.5)\n",
    "q3 = df_noid['Street_Number'].quantile(0.75)\n",
    "iqr = q3 - q1\n",
    "\n",
    "print(\"nilai kuartil pertama\", q1)\n",
    "print(\"nilai kuartil kedua\", q2)\n",
    "print(\"nilai kuartil ketiga\", q3)\n",
    "print(\"nilai rentang antarkuartil\", iqr)\n",
    "\n",
    "outlier_filter = (df_noid['Street_Number'] < q1 - 1.5 * iqr) | (df_noid['Street_Number'] > q3 + 1.5 * iqr)\n",
    "\n",
    "print(\"outlier filter dari Street_Number\", outlier_filter)"
   ]
  },
  {
   "cell_type": "markdown",
   "id": "4f28f1f6-183f-49d2-814c-b1f4930be813",
   "metadata": {},
   "source": [
    "### c. Nilai Kuartil dari Kolom 10 Digit BBL"
   ]
  },
  {
   "cell_type": "code",
   "execution_count": 12,
   "id": "d83b0b62-d9f1-48b2-bd4b-bd7ec385553f",
   "metadata": {},
   "outputs": [
    {
     "name": "stdout",
     "output_type": "stream",
     "text": [
      "nilai kuartil pertama 1000160200.0\n",
      "nilai kuartil kedua 1000220015.0\n",
      "nilai kuartil ketiga 1000290044.5\n",
      "nilai rentang antarkuartil 129844.5\n",
      "outlier filter dari 10_Digit_BBL 0      True\n",
      "1      True\n",
      "2      True\n",
      "3      True\n",
      "4      True\n",
      "      ...  \n",
      "95    False\n",
      "96    False\n",
      "97    False\n",
      "98    False\n",
      "99    False\n",
      "Name: 10_Digit_BBL, Length: 100, dtype: bool\n"
     ]
    }
   ],
   "source": [
    "import pandas as pd\n",
    "df_noid= pd.read_csv('energy_disclosure_2021_rows.csv')\n",
    "q1 = df_noid['10_Digit_BBL'].quantile(0.25)\n",
    "q2 = df_noid['10_Digit_BBL'].quantile(0.5)\n",
    "q3 = df_noid['10_Digit_BBL'].quantile(0.75)\n",
    "iqr = q3 - q1\n",
    "\n",
    "print(\"nilai kuartil pertama\", q1)\n",
    "print(\"nilai kuartil kedua\", q2)\n",
    "print(\"nilai kuartil ketiga\", q3)\n",
    "print(\"nilai rentang antarkuartil\", iqr)\n",
    "\n",
    "outlier_filter = (df_noid['10_Digit_BBL'] < q1 - 1.5 * iqr) | (df_noid['10_Digit_BBL'] > q3 + 1.5 * iqr)\n",
    "\n",
    "print(\"outlier filter dari 10_Digit_BBL\", outlier_filter)"
   ]
  },
  {
   "cell_type": "markdown",
   "id": "5104278e-85e0-4ba5-b281-64b2b21ae90d",
   "metadata": {},
   "source": [
    "## d. Nilai Kuartil dari Kolom DOF Gross Square Footage"
   ]
  },
  {
   "cell_type": "code",
   "execution_count": 14,
   "id": "01b1be4d-4bb9-4672-9ddb-fb9f32db6d13",
   "metadata": {},
   "outputs": [
    {
     "name": "stdout",
     "output_type": "stream",
     "text": [
      "nilai kuartil pertama 217100.75\n",
      "nilai kuartil kedua 361183.0\n",
      "nilai kuartil ketiga 584440.0\n",
      "nilai rentang antarkuartil 367339.25\n",
      "outlier filter dari 10_Digit_BBL 0     True\n",
      "1     True\n",
      "2     True\n",
      "3     True\n",
      "4     True\n",
      "      ... \n",
      "95    True\n",
      "96    True\n",
      "97    True\n",
      "98    True\n",
      "99    True\n",
      "Name: 10_Digit_BBL, Length: 100, dtype: bool\n"
     ]
    }
   ],
   "source": [
    "import pandas as pd\n",
    "df_noid= pd.read_csv('energy_disclosure_2021_rows.csv')\n",
    "q1 = df_noid['DOF_Gross_Square_Footage'].quantile(0.25)\n",
    "q2 = df_noid['DOF_Gross_Square_Footage'].quantile(0.5)\n",
    "q3 = df_noid['DOF_Gross_Square_Footage'].quantile(0.75)\n",
    "iqr = q3 - q1\n",
    "\n",
    "print(\"nilai kuartil pertama\", q1)\n",
    "print(\"nilai kuartil kedua\", q2)\n",
    "print(\"nilai kuartil ketiga\", q3)\n",
    "print(\"nilai rentang antarkuartil\", iqr)\n",
    "\n",
    "outlier_filter_bbl = (df_noid['10_Digit_BBL'] < q1 - 1.5 * iqr) | (df_noid['10_Digit_BBL'] > q3 + 1.5 * iqr)\n",
    "\n",
    "print(\"outlier filter dari 10_Digit_BBL\", outlier_filter_bbl)"
   ]
  },
  {
   "cell_type": "markdown",
   "id": "71169cf9-775c-47a5-b461-ef41c66db855",
   "metadata": {},
   "source": [
    "### 6. Nilai Value Count dari Tiap Kolom"
   ]
  },
  {
   "cell_type": "code",
   "execution_count": 15,
   "id": "c57664b4-8638-4952-b196-3b7324dc3810",
   "metadata": {},
   "outputs": [
    {
     "name": "stdout",
     "output_type": "stream",
     "text": [
      "nilai value count dari kolom DOF Gross Square Footage DOF_Gross_Square_Footage\n",
      "48843      1\n",
      "345540     1\n",
      "433463     1\n",
      "530168     1\n",
      "239071     1\n",
      "          ..\n",
      "1501878    1\n",
      "1881621    1\n",
      "230765     1\n",
      "239165     1\n",
      "1104184    1\n",
      "Name: count, Length: 100, dtype: int64\n",
      "nilai value count dari kolom 10 Digit BBL 10_Digit_BBL\n",
      "1007610020    1\n",
      "1000220028    1\n",
      "1000257502    1\n",
      "1000257501    1\n",
      "1000250027    1\n",
      "             ..\n",
      "1000160120    1\n",
      "1000160100    1\n",
      "1000160020    1\n",
      "1000160015    1\n",
      "1000390012    1\n",
      "Name: count, Length: 100, dtype: int64\n",
      "nilai value count dari kolom Street Number Street_Number\n",
      "20     4\n",
      "50     4\n",
      "1      4\n",
      "325    2\n",
      "250    2\n",
      "      ..\n",
      "344    1\n",
      "330    1\n",
      "61     1\n",
      "65     1\n",
      "110    1\n",
      "Name: count, Length: 73, dtype: int64\n",
      "nilai value count dari kolom Energy Star 1-100 Score Energy_Star_1-100_Score\n",
      "85     5\n",
      "80     5\n",
      "83     4\n",
      "77     4\n",
      "78     4\n",
      "87     3\n",
      "82     3\n",
      "91     3\n",
      "100    2\n",
      "35     2\n",
      "1      2\n",
      "62     2\n",
      "4      2\n",
      "84     2\n",
      "31     2\n",
      "69     2\n",
      "45     2\n",
      "24     2\n",
      "40     2\n",
      "72     2\n",
      "71     2\n",
      "81     2\n",
      "93     2\n",
      "65     2\n",
      "86     2\n",
      "79     2\n",
      "75     2\n",
      "32     2\n",
      "26     2\n",
      "48     1\n",
      "63     1\n",
      "14     1\n",
      "53     1\n",
      "52     1\n",
      "89     1\n",
      "88     1\n",
      "49     1\n",
      "54     1\n",
      "15     1\n",
      "66     1\n",
      "42     1\n",
      "70     1\n",
      "3      1\n",
      "60     1\n",
      "29     1\n",
      "97     1\n",
      "16     1\n",
      "22     1\n",
      "95     1\n",
      "96     1\n",
      "44     1\n",
      "76     1\n",
      "56     1\n",
      "11     1\n",
      "92     1\n",
      "18     1\n",
      "Name: count, dtype: int64\n"
     ]
    }
   ],
   "source": [
    "valcount_1=df['DOF_Gross_Square_Footage'].value_counts()\n",
    "valcount_2=df['10_Digit_BBL'].value_counts()\n",
    "valcount_3=df['Street_Number'].value_counts()\n",
    "valcount_4=df['Energy_Star_1-100_Score'].value_counts()\n",
    "print(\"nilai value count dari kolom DOF Gross Square Footage\", valcount_1)\n",
    "print(\"nilai value count dari kolom 10 Digit BBL\", valcount_2)\n",
    "print(\"nilai value count dari kolom Street Number\", valcount_3)\n",
    "print(\"nilai value count dari kolom Energy Star 1-100 Score\", valcount_4)"
   ]
  },
  {
   "cell_type": "markdown",
   "id": "16be6982-d4e7-4710-af47-b24124e26cc1",
   "metadata": {},
   "source": [
    "### 8. Value Count dari Kolom dalam bentuk Data Frame"
   ]
  },
  {
   "cell_type": "code",
   "execution_count": 130,
   "id": "02c771ea-66aa-4541-89c7-755126302c9c",
   "metadata": {},
   "outputs": [
    {
     "name": "stdout",
     "output_type": "stream",
     "text": [
      "nilai value count dari kolom DOF Gross Square Footage                           count\n",
      "DOF_Gross_Square_Footage       \n",
      "48843                         1\n",
      "345540                        1\n",
      "433463                        1\n",
      "530168                        1\n",
      "239071                        1\n",
      "...                         ...\n",
      "1501878                       1\n",
      "1881621                       1\n",
      "230765                        1\n",
      "239165                        1\n",
      "1104184                       1\n",
      "\n",
      "[100 rows x 1 columns]\n",
      "nilai value count dari kolom 10 Digit BBL               count\n",
      "10_Digit_BBL       \n",
      "1007610020        1\n",
      "1000220028        1\n",
      "1000257502        1\n",
      "1000257501        1\n",
      "1000250027        1\n",
      "...             ...\n",
      "1000160120        1\n",
      "1000160100        1\n",
      "1000160020        1\n",
      "1000160015        1\n",
      "1000390012        1\n",
      "\n",
      "[100 rows x 1 columns]\n",
      "nilai value count dari kolom Street Number                count\n",
      "Street_Number       \n",
      "20                 4\n",
      "50                 4\n",
      "1                  4\n",
      "325                2\n",
      "250                2\n",
      "...              ...\n",
      "344                1\n",
      "330                1\n",
      "61                 1\n",
      "65                 1\n",
      "110                1\n",
      "\n",
      "[73 rows x 1 columns]\n",
      "nilai value count dari kolom Energy Star 1-100 Score Energy_Star_1-100_Score\n",
      "85     5\n",
      "80     5\n",
      "83     4\n",
      "77     4\n",
      "78     4\n",
      "87     3\n",
      "82     3\n",
      "91     3\n",
      "100    2\n",
      "35     2\n",
      "1      2\n",
      "62     2\n",
      "4      2\n",
      "84     2\n",
      "31     2\n",
      "69     2\n",
      "45     2\n",
      "24     2\n",
      "40     2\n",
      "72     2\n",
      "71     2\n",
      "81     2\n",
      "93     2\n",
      "65     2\n",
      "86     2\n",
      "79     2\n",
      "75     2\n",
      "32     2\n",
      "26     2\n",
      "48     1\n",
      "63     1\n",
      "14     1\n",
      "53     1\n",
      "52     1\n",
      "89     1\n",
      "88     1\n",
      "49     1\n",
      "54     1\n",
      "15     1\n",
      "66     1\n",
      "42     1\n",
      "70     1\n",
      "3      1\n",
      "60     1\n",
      "29     1\n",
      "97     1\n",
      "16     1\n",
      "22     1\n",
      "95     1\n",
      "96     1\n",
      "44     1\n",
      "76     1\n",
      "56     1\n",
      "11     1\n",
      "92     1\n",
      "18     1\n",
      "Name: count, dtype: int64\n"
     ]
    }
   ],
   "source": [
    "valcount_1=df['DOF_Gross_Square_Footage'].value_counts().to_frame()\n",
    "valcount_2=df['10_Digit_BBL'].value_counts().to_frame()\n",
    "valcount_3=df['Street_Number'].value_counts().to_frame()\n",
    "valcount_4=df['Energy_Star_1-100_Score'].value_counts()\n",
    "print(\"nilai value count dari kolom DOF Gross Square Footage\", valcount_1)\n",
    "print(\"nilai value count dari kolom 10 Digit BBL\", valcount_2)\n",
    "print(\"nilai value count dari kolom Street Number\", valcount_3)\n",
    "print(\"nilai value count dari kolom Energy Star 1-100 Score\", valcount_4)"
   ]
  },
  {
   "cell_type": "markdown",
   "id": "9356e510-18f6-4403-ab4d-6470dcfd6f12",
   "metadata": {},
   "source": [
    "### 9. Tabel Korelasi Pearson antar Kolom-Kolom Numerik"
   ]
  },
  {
   "cell_type": "code",
   "execution_count": 131,
   "id": "fec9491b-d99b-41d5-89e2-af4dd38a2d92",
   "metadata": {},
   "outputs": [
    {
     "data": {
      "text/html": [
       "<div>\n",
       "<style scoped>\n",
       "    .dataframe tbody tr th:only-of-type {\n",
       "        vertical-align: middle;\n",
       "    }\n",
       "\n",
       "    .dataframe tbody tr th {\n",
       "        vertical-align: top;\n",
       "    }\n",
       "\n",
       "    .dataframe thead th {\n",
       "        text-align: right;\n",
       "    }\n",
       "</style>\n",
       "<table border=\"1\" class=\"dataframe\">\n",
       "  <thead>\n",
       "    <tr style=\"text-align: right;\">\n",
       "      <th></th>\n",
       "      <th>DOF_Gross_Square_Footage</th>\n",
       "      <th>10_Digit_BBL</th>\n",
       "      <th>Street_Number</th>\n",
       "      <th>Energy_Star_1-100_Score</th>\n",
       "    </tr>\n",
       "  </thead>\n",
       "  <tbody>\n",
       "    <tr>\n",
       "      <th>DOF_Gross_Square_Footage</th>\n",
       "      <td>1.000000</td>\n",
       "      <td>-0.212970</td>\n",
       "      <td>-0.090599</td>\n",
       "      <td>0.169343</td>\n",
       "    </tr>\n",
       "    <tr>\n",
       "      <th>10_Digit_BBL</th>\n",
       "      <td>-0.212970</td>\n",
       "      <td>1.000000</td>\n",
       "      <td>0.597402</td>\n",
       "      <td>0.202284</td>\n",
       "    </tr>\n",
       "    <tr>\n",
       "      <th>Street_Number</th>\n",
       "      <td>-0.090599</td>\n",
       "      <td>0.597402</td>\n",
       "      <td>1.000000</td>\n",
       "      <td>0.074617</td>\n",
       "    </tr>\n",
       "    <tr>\n",
       "      <th>Energy_Star_1-100_Score</th>\n",
       "      <td>0.169343</td>\n",
       "      <td>0.202284</td>\n",
       "      <td>0.074617</td>\n",
       "      <td>1.000000</td>\n",
       "    </tr>\n",
       "  </tbody>\n",
       "</table>\n",
       "</div>"
      ],
      "text/plain": [
       "                          DOF_Gross_Square_Footage  10_Digit_BBL  \\\n",
       "DOF_Gross_Square_Footage                  1.000000     -0.212970   \n",
       "10_Digit_BBL                             -0.212970      1.000000   \n",
       "Street_Number                            -0.090599      0.597402   \n",
       "Energy_Star_1-100_Score                   0.169343      0.202284   \n",
       "\n",
       "                          Street_Number  Energy_Star_1-100_Score  \n",
       "DOF_Gross_Square_Footage      -0.090599                 0.169343  \n",
       "10_Digit_BBL                   0.597402                 0.202284  \n",
       "Street_Number                  1.000000                 0.074617  \n",
       "Energy_Star_1-100_Score        0.074617                 1.000000  "
      ]
     },
     "execution_count": 131,
     "metadata": {},
     "output_type": "execute_result"
    }
   ],
   "source": [
    " df[['DOF_Gross_Square_Footage', '10_Digit_BBL', 'Street_Number', 'Energy_Star_1-100_Score']].corr()"
   ]
  },
  {
   "cell_type": "markdown",
   "id": "8d130d47-7ffe-4770-b45a-50938bd2f9d3",
   "metadata": {},
   "source": [
    "### 10. Analisa dengan Groupby"
   ]
  },
  {
   "cell_type": "code",
   "execution_count": 136,
   "id": "4e1dfbb5-f9f0-4535-b577-418dea3459fe",
   "metadata": {},
   "outputs": [
    {
     "name": "stdout",
     "output_type": "stream",
     "text": [
      "Nilai Analisa Groupby antara Kelompok DOF Gross Square Footage dengan Street Number pada atribut mean DOF_Gross_Square_Footage\n",
      "25483       21.0\n",
      "34613      129.0\n",
      "35219      333.0\n",
      "48843      325.0\n",
      "82354      313.0\n",
      "           ...  \n",
      "1501878    200.0\n",
      "1881621    345.0\n",
      "2084079    250.0\n",
      "2267925    225.0\n",
      "3678000     43.0\n",
      "Name: Street_Number, Length: 100, dtype: float64\n",
      "Nilai Analisa Groupby antara Kelompok DOF Gross Square Footage dengan Street Number pada atribut standar deviasi DOF_Gross_Square_Footage\n",
      "25483     NaN\n",
      "34613     NaN\n",
      "35219     NaN\n",
      "48843     NaN\n",
      "82354     NaN\n",
      "           ..\n",
      "1501878   NaN\n",
      "1881621   NaN\n",
      "2084079   NaN\n",
      "2267925   NaN\n",
      "3678000   NaN\n",
      "Name: Street_Number, Length: 100, dtype: float64\n",
      "Nilai Analisa Groupby antara Kelompok DOF Gross Square Footage dengan Street Number pada atribut median DOF_Gross_Square_Footage\n",
      "25483       21.0\n",
      "34613      129.0\n",
      "35219      333.0\n",
      "48843      325.0\n",
      "82354      313.0\n",
      "           ...  \n",
      "1501878    200.0\n",
      "1881621    345.0\n",
      "2084079    250.0\n",
      "2267925    225.0\n",
      "3678000     43.0\n",
      "Name: Street_Number, Length: 100, dtype: float64\n",
      "Nilai Analisa Groupby antara Kelompok DOF Gross Square Footage dengan Street Number pada atribut sum DOF_Gross_Square_Footage\n",
      "25483       21\n",
      "34613      129\n",
      "35219      333\n",
      "48843      325\n",
      "82354      313\n",
      "          ... \n",
      "1501878    200\n",
      "1881621    345\n",
      "2084079    250\n",
      "2267925    225\n",
      "3678000     43\n",
      "Name: Street_Number, Length: 100, dtype: int64\n"
     ]
    }
   ],
   "source": [
    "groupby_mean=df.groupby('DOF_Gross_Square_Footage')['Street_Number'].mean()\n",
    "groupby_std=df.groupby('DOF_Gross_Square_Footage')['Street_Number'].std()\n",
    "groupby_median=df.groupby('DOF_Gross_Square_Footage')['Street_Number'].median()\n",
    "groupby_sum=df.groupby('DOF_Gross_Square_Footage')['Street_Number'].sum()\n",
    "print(\"Nilai Analisa Groupby antara Kelompok DOF Gross Square Footage dengan Street Number pada atribut mean\", groupby_mean)\n",
    "print(\"Nilai Analisa Groupby antara Kelompok DOF Gross Square Footage dengan Street Number pada atribut standar deviasi\", groupby_std)\n",
    "print(\"Nilai Analisa Groupby antara Kelompok DOF Gross Square Footage dengan Street Number pada atribut median\", groupby_median)\n",
    "print(\"Nilai Analisa Groupby antara Kelompok DOF Gross Square Footage dengan Street Number pada atribut sum\", groupby_sum)"
   ]
  },
  {
   "cell_type": "markdown",
   "id": "86fb0b27-3b57-42c2-aa26-f057cd888426",
   "metadata": {},
   "source": [
    "### 11. Visualisasi Data"
   ]
  },
  {
   "cell_type": "markdown",
   "id": "cc0ed7d8-98df-441d-adfe-01929ea0692f",
   "metadata": {},
   "source": [
    "## a. Histogram"
   ]
  },
  {
   "cell_type": "code",
   "execution_count": 25,
   "id": "8f4ab313-3f20-40e1-ae0c-464aed914b1f",
   "metadata": {},
   "outputs": [
    {
     "data": {
      "image/png": "[encoded data removed]",
      "text/plain": [
       "<Figure size 640x480 with 1 Axes>"
      ]
     },
     "metadata": {},
     "output_type": "display_data"
    }
   ],
   "source": [
    "import pandas as pd\n",
    "import matplotlib.pyplot as plt\n",
    "df = pd.read_csv(\"energy_disclosure_2021_rows.csv\", usecols=['Energy_Star_1-100_Score'])\n",
    "plt.hist(df)\n",
    "plt.title(\"Histogram\")\n",
    "plt.show() "
   ]
  },
  {
   "cell_type": "markdown",
   "id": "f2ed6dfe-63cb-4b5f-8a41-533eebef9bbc",
   "metadata": {},
   "source": [
    "## b. Scatterplot"
   ]
  },
  {
   "cell_type": "code",
   "execution_count": 26,
   "id": "c4a93a24-0e96-4bff-9456-434254483bec",
   "metadata": {},
   "outputs": [
    {
     "data": {
      "text/plain": [
       "<Axes: xlabel='Street_Number', ylabel='Energy_Star_1-100_Score'>"
      ]
     },
     "execution_count": 26,
     "metadata": {},
     "output_type": "execute_result"
    },
    {
     "data": {
      "image/png": "[encoded data removed]",
      "text/plain": [
       "<Figure size 640x480 with 1 Axes>"
      ]
     },
     "metadata": {},
     "output_type": "display_data"
    }
   ],
   "source": [
    "import seaborn as sns\n",
    "import pandas as pd\n",
    "df = pd.read_csv(\"energy_disclosure_2021_rows.csv\")\n",
    "sns.scatterplot(x=df['Street_Number'], y=df['Energy_Star_1-100_Score'])"
   ]
  },
  {
   "cell_type": "code",
   "execution_count": 27,
   "id": "f76b3387-79b8-48de-852c-034ffe615fa5",
   "metadata": {},
   "outputs": [
    {
     "data": {
      "text/plain": [
       "<Axes: xlabel='Energy_Efficiency_Grade', ylabel='Energy_Star_1-100_Score'>"
      ]
     },
     "execution_count": 27,
     "metadata": {},
     "output_type": "execute_result"
    },
    {
     "data": {
      "image/png": "[encoded data removed]",
      "text/plain": [
       "<Figure size 640x480 with 1 Axes>"
      ]
     },
     "metadata": {},
     "output_type": "display_data"
    }
   ],
   "source": [
    "#latihan(18)\n",
    "#uat scatterplot dengan kolom age dan size\n",
    "import seaborn as sns\n",
    "import pandas as pd\n",
    "df = pd.read_csv(\"energy_disclosure_2021_rows.csv\")\n",
    "sns.scatterplot(x=df['Energy_Efficiency_Grade'], y=df['Energy_Star_1-100_Score'])"
   ]
  },
  {
   "cell_type": "markdown",
   "id": "d73913e3-3f5f-4ddc-a423-b7c8c00c7832",
   "metadata": {},
   "source": [
    "## c. Data Plot"
   ]
  },
  {
   "cell_type": "code",
   "execution_count": 29,
   "id": "19e3274a-8925-48d5-88ee-658cd5306a2c",
   "metadata": {},
   "outputs": [
    {
     "data": {
      "image/png": "[encoded data removed]",
      "text/plain": [
       "<Figure size 640x480 with 1 Axes>"
      ]
     },
     "metadata": {},
     "output_type": "display_data"
    }
   ],
   "source": [
    "import matplotlib.pyplot as plt\n",
    "import pandas as pd\n",
    "\n",
    "# Reading the tips.csv file\n",
    "df = pd.read_csv(\"energy_disclosure_2021_rows.csv\", usecols=['Energy_Efficiency_Grade', 'Energy_Star_1-100_Score'])\n",
    "\n",
    "# initializing the data\n",
    "x=df['Energy_Efficiency_Grade']\n",
    "y=df['Energy_Star_1-100_Score']\n",
    "\n",
    "# plotting the data\n",
    "plt.plot(x, y)\n",
    "\n",
    "# Adding title to the plot\n",
    "plt.title(\"Tips Dataset\")\n",
    "\n",
    "# Adding label on the y-axis\n",
    "plt.ylabel('Energy Star 1-100 Score')\n",
    "\n",
    "# Adding label on the x-axis\n",
    "plt.xlabel('Ennergy Efficiency Grade')\n",
    "\n",
    "plt.show()"
   ]
  },
  {
   "cell_type": "code",
   "execution_count": null,
   "id": "5ca99a50-4169-4079-8c61-b22d706a2924",
   "metadata": {},
   "outputs": [],
   "source": []
  }
 ],
 "metadata": {
  "kernelspec": {
   "display_name": "Python 3 (ipykernel)",
   "language": "python",
   "name": "python3"
  },
  "language_info": {
   "codemirror_mode": {
    "name": "ipython",
    "version": 3
   },
   "file_extension": ".py",
   "mimetype": "text/x-python",
   "name": "python",
   "nbconvert_exporter": "python",
   "pygments_lexer": "ipython3",
   "version": "3.8.17"
  }
 },
 "nbformat": 4,
 "nbformat_minor": 5
}
